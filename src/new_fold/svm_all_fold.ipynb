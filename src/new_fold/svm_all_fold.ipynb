{
 "cells": [
  {
   "cell_type": "code",
   "execution_count": 64,
   "metadata": {},
   "outputs": [],
   "source": [
    "import pandas as pd\n",
    "import numpy as np\n",
    "import matplotlib.pyplot as plt\n",
    "import seaborn as sns\n",
    "from sklearn.cluster import KMeans\n",
    "from sklearn import datasets\n",
    "from io import StringIO\n",
    "from sklearn.tree import export_graphviz\n",
    "from sklearn.model_selection import train_test_split\n",
    "from sklearn import tree\n",
    "from sklearn import metrics"
   ]
  },
  {
   "cell_type": "code",
   "execution_count": 65,
   "metadata": {},
   "outputs": [],
   "source": [
    "bank=pd.read_csv('fold_all.csv')\n",
    "bank_c=pd.read_csv('fold_all_class.csv')"
   ]
  },
  {
   "cell_type": "code",
   "execution_count": 66,
   "metadata": {},
   "outputs": [],
   "source": [
    "# Make a copy for parsing\n",
    "question_data = bank.copy()\n",
    "question_data_c=bank_c.copy()\n",
    "# Check if the data set contains any null values\n",
    "#question_data[question_data.isnull().any(axis=1)].count()\n",
    "question_data_c['C'] = question_data_c['C'].map( {'Vata':0, 'Kapha':1,'Pitta':2} )\n",
    "# Convert categorical variables to dummies\n",
    "question_data_original=question_data\n",
    "question_data_class=question_data_c\n",
    "question_data.drop('C', axis=1, inplace=True)\n",
    "question_data.drop('SampleID', axis=1, inplace=True)\n",
    "question_data_class.drop('SampleID', axis=1, inplace=True)\n",
    "question_data.drop('Fold5', axis=1, inplace=True)\n",
    "question_data_class.drop('Fold5', axis=1, inplace=True)\n",
    "question_data.drop('Fold6', axis=1, inplace=True)\n",
    "question_data_class.drop('Fold6', axis=1, inplace=True)\n",
    "question_data.drop('Fold7', axis=1, inplace=True)\n",
    "question_data_class.drop('Fold7', axis=1, inplace=True)\n",
    "question_data.drop('Fold8', axis=1, inplace=True)\n",
    "question_data_class.drop('Fold8', axis=1, inplace=True)\n",
    "question_data.drop('Fold10', axis=1, inplace=True)\n",
    "question_data_class.drop('Fold10', axis=1, inplace=True)\n",
    "question_data.drop('Fold1', axis=1, inplace=True)\n",
    "question_data_class.drop('Fold1', axis=1, inplace=True)\n",
    "question_data.drop('Fold2', axis=1, inplace=True)\n",
    "question_data_class.drop('Fold2', axis=1, inplace=True)\n",
    "question_data.drop('Fold3', axis=1, inplace=True)\n",
    "question_data_class.drop('Fold3', axis=1, inplace=True)\n",
    "question_data.drop('Fold4', axis=1, inplace=True)\n",
    "question_data_class.drop('Fold4', axis=1, inplace=True)\n",
    "question_with_dummies = pd.get_dummies(data=question_data)"
   ]
  },
  {
   "cell_type": "code",
   "execution_count": 67,
   "metadata": {},
   "outputs": [
    {
     "name": "stderr",
     "output_type": "stream",
     "text": [
      "C:\\ProgramData\\Anaconda3\\lib\\site-packages\\pandas\\core\\frame.py:3694: SettingWithCopyWarning: \n",
      "A value is trying to be set on a copy of a slice from a DataFrame\n",
      "\n",
      "See the caveats in the documentation: http://pandas.pydata.org/pandas-docs/stable/indexing.html#indexing-view-versus-copy\n",
      "  errors=errors)\n"
     ]
    }
   ],
   "source": [
    "from sklearn.cross_validation import train_test_split\n",
    "X_train=question_with_dummies[question_with_dummies['Fold9']==1]\n",
    "X_test=question_with_dummies[question_with_dummies['Fold9']==0]\n",
    "y_train=question_data_class[question_data_class['Fold9']==1]\n",
    "y_train.drop('Fold9', axis=1, inplace=True)\n",
    "y_test=question_data_class[question_data_class['Fold9']==0]\n",
    "y_test.drop('Fold9', axis=1, inplace=True)"
   ]
  },
  {
   "cell_type": "code",
   "execution_count": 68,
   "metadata": {},
   "outputs": [
    {
     "name": "stderr",
     "output_type": "stream",
     "text": [
      "C:\\ProgramData\\Anaconda3\\lib\\site-packages\\sklearn\\utils\\validation.py:578: DataConversionWarning: A column-vector y was passed when a 1d array was expected. Please change the shape of y to (n_samples, ), for example using ravel().\n",
      "  y = column_or_1d(y, warn=True)\n",
      "C:\\ProgramData\\Anaconda3\\lib\\site-packages\\sklearn\\utils\\validation.py:578: DataConversionWarning: A column-vector y was passed when a 1d array was expected. Please change the shape of y to (n_samples, ), for example using ravel().\n",
      "  y = column_or_1d(y, warn=True)\n",
      "C:\\ProgramData\\Anaconda3\\lib\\site-packages\\sklearn\\utils\\validation.py:578: DataConversionWarning: A column-vector y was passed when a 1d array was expected. Please change the shape of y to (n_samples, ), for example using ravel().\n",
      "  y = column_or_1d(y, warn=True)\n",
      "C:\\ProgramData\\Anaconda3\\lib\\site-packages\\sklearn\\utils\\validation.py:578: DataConversionWarning: A column-vector y was passed when a 1d array was expected. Please change the shape of y to (n_samples, ), for example using ravel().\n",
      "  y = column_or_1d(y, warn=True)\n",
      "C:\\ProgramData\\Anaconda3\\lib\\site-packages\\sklearn\\utils\\validation.py:578: DataConversionWarning: A column-vector y was passed when a 1d array was expected. Please change the shape of y to (n_samples, ), for example using ravel().\n",
      "  y = column_or_1d(y, warn=True)\n",
      "C:\\ProgramData\\Anaconda3\\lib\\site-packages\\sklearn\\utils\\validation.py:578: DataConversionWarning: A column-vector y was passed when a 1d array was expected. Please change the shape of y to (n_samples, ), for example using ravel().\n",
      "  y = column_or_1d(y, warn=True)\n",
      "C:\\ProgramData\\Anaconda3\\lib\\site-packages\\sklearn\\utils\\validation.py:578: DataConversionWarning: A column-vector y was passed when a 1d array was expected. Please change the shape of y to (n_samples, ), for example using ravel().\n",
      "  y = column_or_1d(y, warn=True)\n",
      "C:\\ProgramData\\Anaconda3\\lib\\site-packages\\sklearn\\utils\\validation.py:578: DataConversionWarning: A column-vector y was passed when a 1d array was expected. Please change the shape of y to (n_samples, ), for example using ravel().\n",
      "  y = column_or_1d(y, warn=True)\n"
     ]
    },
    {
     "name": "stdout",
     "output_type": "stream",
     "text": [
      "0.8620689655172413\n",
      "[0.862]\n",
      "0.6206896551724138\n",
      "[0.862 0.621]\n",
      "0.6206896551724138\n",
      "[0.862 0.621 0.621]\n",
      "0.6206896551724138\n",
      "[0.862 0.621 0.621 0.621]\n"
     ]
    },
    {
     "data": {
      "image/png": "[encoded data removed]",
      "text/plain": [
       "<Figure size 432x288 with 1 Axes>"
      ]
     },
     "metadata": {},
     "output_type": "display_data"
    }
   ],
   "source": [
    "from sklearn import svm\n",
    "from sklearn.model_selection import cross_val_score\n",
    "a_scores=[]\n",
    "a_range=list(range(2,6))\n",
    "for a in a_range:\n",
    "    t_svc = svm.SVC(kernel='poly', degree=a, C=1).fit(X_train, y_train)\n",
    "    t_svc.fit(X_train,y_train)\n",
    "    scores=t_svc.score(X_test, y_test)\n",
    "    #scores=cross_val_score(estimator=t_svc, X=X_test, y=y_test, cv=2)\n",
    "    print(scores)\n",
    "    a_scores.append(scores.mean())\n",
    "    print(np.round(a_scores,3)) # to display scores to 3 decimal places\n",
    "from matplotlib import pyplot as plt\n",
    "plt.plot(a_range,a_scores,color=\"red\")\n",
    "plt.xlabel('Degree')\n",
    "plt.ylabel('cross-validation score')\n",
    "fig1 = plt.gcf()\n",
    "plt.draw()\n",
    "plt.show()\n",
    "fig1.savefig('svm9f.png',dpi=200)"
   ]
  },
  {
   "cell_type": "code",
   "execution_count": 69,
   "metadata": {},
   "outputs": [
    {
     "name": "stdout",
     "output_type": "stream",
     "text": [
      "             precision    recall  f1-score   support\n",
      "\n",
      "          0       0.86      1.00      0.92        18\n",
      "          1       0.88      1.00      0.93         7\n",
      "          2       0.00      0.00      0.00         4\n",
      "\n",
      "avg / total       0.74      0.86      0.80        29\n",
      "\n"
     ]
    },
    {
     "name": "stderr",
     "output_type": "stream",
     "text": [
      "C:\\ProgramData\\Anaconda3\\lib\\site-packages\\sklearn\\utils\\validation.py:578: DataConversionWarning: A column-vector y was passed when a 1d array was expected. Please change the shape of y to (n_samples, ), for example using ravel().\n",
      "  y = column_or_1d(y, warn=True)\n",
      "C:\\ProgramData\\Anaconda3\\lib\\site-packages\\sklearn\\metrics\\classification.py:1135: UndefinedMetricWarning: Precision and F-score are ill-defined and being set to 0.0 in labels with no predicted samples.\n",
      "  'precision', 'predicted', average, warn_for)\n"
     ]
    }
   ],
   "source": [
    "a=2\n",
    "t_svc = svm.SVC(kernel='poly', degree=a, C=1).fit(X_train, y_train)\n",
    "#predict\n",
    "y_pred = t_svc.predict(X_test)  \n",
    "## See how the model performs on the test data.\n",
    "t_svc.score(X_test, y_test)\n",
    "from sklearn.metrics import classification_report, confusion_matrix  \n",
    "print(classification_report(y_test, y_pred))"
   ]
  },
  {
   "cell_type": "code",
   "execution_count": 70,
   "metadata": {},
   "outputs": [
    {
     "data": {
      "image/png": "[encoded data removed]",
      "text/plain": [
       "<Figure size 360x288 with 2 Axes>"
      ]
     },
     "metadata": {},
     "output_type": "display_data"
    }
   ],
   "source": [
    "import seaborn as sn\n",
    "import pandas as pd\n",
    "import matplotlib.pyplot as plt\n",
    "array = confusion_matrix(y_test, y_pred)\n",
    "df_cm = pd.DataFrame(array, index = [i for i in \"VKP\"],\n",
    "                  columns = [i for i in \"VKP\"])\n",
    "plt.figure(figsize = (5,4))\n",
    "sn.heatmap(df_cm, annot=True)\n",
    "fig1 = plt.gcf()\n",
    "plt.draw()\n",
    "plt.show()\n",
    "fig1.savefig('svc9fc.png',dpi=200)"
   ]
  },
  {
   "cell_type": "code",
   "execution_count": null,
   "metadata": {},
   "outputs": [],
   "source": []
  }
 ],
 "metadata": {
  "kernelspec": {
   "display_name": "Python 3",
   "language": "python",
   "name": "python3"
  },
  "language_info": {
   "codemirror_mode": {
    "name": "ipython",
    "version": 3
   },
   "file_extension": ".py",
   "mimetype": "text/x-python",
   "name": "python",
   "nbconvert_exporter": "python",
   "pygments_lexer": "ipython3",
   "version": "3.6.5"
  }
 },
 "nbformat": 4,
 "nbformat_minor": 2
}
