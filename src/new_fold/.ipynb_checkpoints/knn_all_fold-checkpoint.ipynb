{
 "cells": [
  {
   "cell_type": "code",
   "execution_count": 1,
   "metadata": {},
   "outputs": [],
   "source": [
    "import pandas as pd\n",
    "import numpy as np\n",
    "import matplotlib.pyplot as plt\n",
    "import seaborn as sns\n",
    "from sklearn.cluster import KMeans\n",
    "from sklearn import datasets\n",
    "from io import StringIO\n",
    "from sklearn.tree import export_graphviz\n",
    "from sklearn.model_selection import train_test_split\n",
    "from sklearn import tree\n",
    "from sklearn import metrics"
   ]
  },
  {
   "cell_type": "code",
   "execution_count": 2,
   "metadata": {},
   "outputs": [],
   "source": [
    "bank=pd.read_csv('fold_all.csv')\n",
    "bank_c=pd.read_csv('fold_all_class.csv')"
   ]
  },
  {
   "cell_type": "code",
   "execution_count": 3,
   "metadata": {},
   "outputs": [],
   "source": [
    "# Make a copy for parsing\n",
    "question_data = bank.copy()\n",
    "question_data_c=bank_c.copy()\n",
    "# Check if the data set contains any null values\n",
    "#question_data[question_data.isnull().any(axis=1)].count()\n",
    "question_data_c['C'] = question_data_c['C'].map( {'Vata':0, 'Kapha':1,'Pitta':2} )\n",
    "# Convert categorical variables to dummies\n",
    "question_data_original=question_data\n",
    "question_data_class=question_data_c\n",
    "question_data.drop('C', axis=1, inplace=True)\n",
    "question_data.drop('SampleID', axis=1, inplace=True)\n",
    "question_data_class.drop('SampleID', axis=1, inplace=True)\n",
    "question_data.drop('Fold1', axis=1, inplace=True)\n",
    "question_data_class.drop('Fold1', axis=1, inplace=True)\n",
    "question_data.drop('Fold3', axis=1, inplace=True)\n",
    "question_data_class.drop('Fold3', axis=1, inplace=True)\n",
    "question_data.drop('Fold4', axis=1, inplace=True)\n",
    "question_data_class.drop('Fold4', axis=1, inplace=True)\n",
    "question_data.drop('Fold5', axis=1, inplace=True)\n",
    "question_data_class.drop('Fold5', axis=1, inplace=True)\n",
    "question_data.drop('Fold6', axis=1, inplace=True)\n",
    "question_data_class.drop('Fold6', axis=1, inplace=True)\n",
    "question_data.drop('Fold7', axis=1, inplace=True)\n",
    "question_data_class.drop('Fold7', axis=1, inplace=True)\n",
    "question_data.drop('Fold8', axis=1, inplace=True)\n",
    "question_data_class.drop('Fold8', axis=1, inplace=True)\n",
    "question_data.drop('Fold9', axis=1, inplace=True)\n",
    "question_data_class.drop('Fold9', axis=1, inplace=True)\n",
    "question_data.drop('Fold10', axis=1, inplace=True)\n",
    "question_data_class.drop('Fold10', axis=1, inplace=True)\n",
    "question_with_dummies = pd.get_dummies(data=question_data)"
   ]
  },
  {
   "cell_type": "code",
   "execution_count": 4,
   "metadata": {},
   "outputs": [
    {
     "name": "stderr",
     "output_type": "stream",
     "text": [
      "C:\\ProgramData\\Anaconda3\\lib\\site-packages\\pandas\\core\\frame.py:3694: SettingWithCopyWarning: \n",
      "A value is trying to be set on a copy of a slice from a DataFrame\n",
      "\n",
      "See the caveats in the documentation: http://pandas.pydata.org/pandas-docs/stable/indexing.html#indexing-view-versus-copy\n",
      "  errors=errors)\n"
     ]
    }
   ],
   "source": [
    "X_train=question_with_dummies[question_with_dummies['Fold1']==1]\n",
    "X_test=question_with_dummies[question_with_dummies['Fold1']==0]\n",
    "y_train=question_data_class[question_data_class['Fold1']==1]\n",
    "y_train.drop('Fold1', axis=1, inplace=True)\n",
    "y_test=question_data_class[question_data_class['Fold1']==0]\n",
    "y_test.drop('Fold1', axis=1, inplace=True)"
   ]
  },
  {
   "cell_type": "code",
   "execution_count": 5,
   "metadata": {},
   "outputs": [
    {
     "name": "stderr",
     "output_type": "stream",
     "text": [
      "C:\\ProgramData\\Anaconda3\\lib\\site-packages\\sklearn\\cross_validation.py:41: DeprecationWarning: This module was deprecated in version 0.18 in favor of the model_selection module into which all the refactored classes and functions are moved. Also note that the interface of the new CV iterators are different from that of this module. This module will be removed in 0.20.\n",
      "  \"This module will be removed in 0.20.\", DeprecationWarning)\n"
     ]
    },
    {
     "name": "stdout",
     "output_type": "stream",
     "text": [
      "[0.966 0.966 1.    1.    0.966 0.966 0.966 0.966 0.966 0.966 0.931 0.966\n",
      " 0.966 0.966 0.966 0.966 0.966 0.966 0.966 0.966 0.966 0.966 0.966 0.966\n",
      " 0.931 0.966 0.931 0.966 0.966]\n"
     ]
    },
    {
     "data": {
      "image/png": "[encoded data removed]",
      "text/plain": [
       "<Figure size 432x288 with 1 Axes>"
      ]
     },
     "metadata": {},
     "output_type": "display_data"
    }
   ],
   "source": [
    "from sklearn.cross_validation import train_test_split\n",
    "from sklearn import neighbors\n",
    "from sklearn.model_selection import cross_val_score\n",
    "k=5\n",
    "k_range=list(range(1,30))\n",
    "y_train=y_train.values.ravel()\n",
    "y_test=y_test.values.ravel()\n",
    "k_scores=[]\n",
    "for k in k_range:\n",
    "    clf = neighbors.KNeighborsClassifier(k, weights='distance')\n",
    "    clf.fit(X_train, y_train)\n",
    "    #scores=cross_val_score(clf, X_test, y_test, cv=2)\n",
    "    scores=clf.score(X_test, y_test)\n",
    "    k_scores.append(scores.mean())\n",
    "    #scores=clf.score(X_test, y_test)\n",
    "  # print(scores)\n",
    "    #k_scores.append(scores)\n",
    "print(np.round(k_scores,3)) # to display scores to 3 decimal places\n",
    "from matplotlib import pyplot as plt\n",
    "plt.plot(k_range,k_scores,color=\"red\")\n",
    "plt.xlabel('k values')\n",
    "plt.ylabel('cross-validation score')\n",
    "plt.ylim(0,1)\n",
    "fig1 = plt.gcf()\n",
    "plt.draw()\n",
    "plt.show()\n",
    "fig1.savefig('knn1f.png',dpi=200)"
   ]
  },
  {
   "cell_type": "code",
   "execution_count": 38,
   "metadata": {},
   "outputs": [
    {
     "name": "stdout",
     "output_type": "stream",
     "text": [
      "             precision    recall  f1-score   support\n",
      "\n",
      "          0       1.00      1.00      1.00        12\n",
      "          1       0.90      1.00      0.95         9\n",
      "          2       1.00      0.88      0.93         8\n",
      "\n",
      "avg / total       0.97      0.97      0.97        29\n",
      "\n"
     ]
    },
    {
     "name": "stderr",
     "output_type": "stream",
     "text": [
      "C:\\ProgramData\\Anaconda3\\lib\\site-packages\\ipykernel_launcher.py:4: DataConversionWarning: A column-vector y was passed when a 1d array was expected. Please change the shape of y to (n_samples, ), for example using ravel().\n",
      "  after removing the cwd from sys.path.\n"
     ]
    }
   ],
   "source": [
    "from sklearn import neighbors\n",
    "n_neighbors=k\n",
    "clf = neighbors.KNeighborsClassifier(n_neighbors, weights='distance')\n",
    "clf.fit(X_train, y_train)\n",
    "\n",
    "#predict\n",
    "y_pred = clf.predict(X_test)  \n",
    "## See how the model performs on the test data.\n",
    "clf.score(X_test, y_test)\n",
    "from sklearn.metrics import classification_report, confusion_matrix  \n",
    "print(classification_report(y_test, y_pred))"
   ]
  },
  {
   "cell_type": "code",
   "execution_count": 39,
   "metadata": {},
   "outputs": [
    {
     "data": {
      "image/png": "[encoded data removed]",
      "text/plain": [
       "<Figure size 360x288 with 2 Axes>"
      ]
     },
     "metadata": {},
     "output_type": "display_data"
    },
    {
     "data": {
      "text/plain": [
       "<Figure size 432x288 with 0 Axes>"
      ]
     },
     "metadata": {},
     "output_type": "display_data"
    }
   ],
   "source": [
    "import seaborn as sn\n",
    "import pandas as pd\n",
    "import matplotlib.pyplot as plt\n",
    "array = confusion_matrix(y_test, y_pred)\n",
    "df_cm = pd.DataFrame(array, index = [i for i in \"VKP\"],\n",
    "                  columns = [i for i in \"VKP\"])\n",
    "g=plt.figure(figsize = (5,4))\n",
    "sn.heatmap(df_cm, annot=True)\n",
    "plt.show()\n",
    "fig1 = plt.gcf()\n",
    "plt.draw()\n",
    "plt.show()\n",
    "fig1.savefig('knn1c.png',dpi=200)"
   ]
  },
  {
   "cell_type": "code",
   "execution_count": null,
   "metadata": {},
   "outputs": [],
   "source": []
  }
 ],
 "metadata": {
  "kernelspec": {
   "display_name": "Python 3",
   "language": "python",
   "name": "python3"
  },
  "language_info": {
   "codemirror_mode": {
    "name": "ipython",
    "version": 3
   },
   "file_extension": ".py",
   "mimetype": "text/x-python",
   "name": "python",
   "nbconvert_exporter": "python",
   "pygments_lexer": "ipython3",
   "version": "3.6.5"
  }
 },
 "nbformat": 4,
 "nbformat_minor": 2
}
