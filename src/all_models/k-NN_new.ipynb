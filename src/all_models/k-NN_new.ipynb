{
 "cells": [
  {
   "cell_type": "code",
   "execution_count": 1,
   "metadata": {},
   "outputs": [],
   "source": [
    "import pandas as pd\n",
    "import numpy as np\n",
    "import matplotlib.pyplot as plt\n",
    "import seaborn as sns\n",
    "from sklearn.cluster import KMeans\n",
    "from sklearn import datasets\n",
    "from io import StringIO\n",
    "from sklearn.tree import export_graphviz\n",
    "from sklearn.model_selection import train_test_split\n",
    "from sklearn import tree\n",
    "from sklearn import metrics"
   ]
  },
  {
   "cell_type": "code",
   "execution_count": 2,
   "metadata": {},
   "outputs": [
    {
     "data": {
      "text/html": [
       "<div>\n",
       "<style scoped>\n",
       "    .dataframe tbody tr th:only-of-type {\n",
       "        vertical-align: middle;\n",
       "    }\n",
       "\n",
       "    .dataframe tbody tr th {\n",
       "        vertical-align: top;\n",
       "    }\n",
       "\n",
       "    .dataframe thead th {\n",
       "        text-align: right;\n",
       "    }\n",
       "</style>\n",
       "<table border=\"1\" class=\"dataframe\">\n",
       "  <thead>\n",
       "    <tr style=\"text-align: right;\">\n",
       "      <th></th>\n",
       "      <th>SampleID</th>\n",
       "      <th>C</th>\n",
       "      <th>GENDER</th>\n",
       "      <th>F1</th>\n",
       "      <th>F2</th>\n",
       "      <th>F3</th>\n",
       "      <th>F4</th>\n",
       "      <th>F5</th>\n",
       "      <th>F6</th>\n",
       "      <th>F7</th>\n",
       "      <th>...</th>\n",
       "      <th>F123</th>\n",
       "      <th>F124</th>\n",
       "      <th>F125</th>\n",
       "      <th>F126</th>\n",
       "      <th>F127</th>\n",
       "      <th>F128</th>\n",
       "      <th>F129</th>\n",
       "      <th>F130</th>\n",
       "      <th>F131</th>\n",
       "      <th>F132</th>\n",
       "    </tr>\n",
       "  </thead>\n",
       "  <tbody>\n",
       "    <tr>\n",
       "      <th>0</th>\n",
       "      <td>S1</td>\n",
       "      <td>Vata</td>\n",
       "      <td>Male</td>\n",
       "      <td>Weaklydeveloped</td>\n",
       "      <td>Thin/Narrow</td>\n",
       "      <td>Long</td>\n",
       "      <td>Black</td>\n",
       "      <td>Thin/Narrow</td>\n",
       "      <td>DarkBrown</td>\n",
       "      <td>Moderatelydeveloped</td>\n",
       "      <td>...</td>\n",
       "      <td>Non_Irrelevantinbetween</td>\n",
       "      <td>Non_Brittle/Cracked</td>\n",
       "      <td>Non_Loose</td>\n",
       "      <td>Clear</td>\n",
       "      <td>Non_Cracked</td>\n",
       "      <td>Non_Freckles</td>\n",
       "      <td>Non_Marks</td>\n",
       "      <td>Non_Moles</td>\n",
       "      <td>Pimples</td>\n",
       "      <td>Non_Wrinkled</td>\n",
       "    </tr>\n",
       "    <tr>\n",
       "      <th>1</th>\n",
       "      <td>S2</td>\n",
       "      <td>Kapha</td>\n",
       "      <td>Male</td>\n",
       "      <td>Welldeveloped</td>\n",
       "      <td>Broad</td>\n",
       "      <td>Long</td>\n",
       "      <td>DarkBrown</td>\n",
       "      <td>Broad</td>\n",
       "      <td>DarkBrown</td>\n",
       "      <td>Moderatelydeveloped</td>\n",
       "      <td>...</td>\n",
       "      <td>Non_Irrelevantinbetween</td>\n",
       "      <td>Non_Brittle/Cracked</td>\n",
       "      <td>Non_Loose</td>\n",
       "      <td>Clear</td>\n",
       "      <td>Non_Cracked</td>\n",
       "      <td>Non_Freckles</td>\n",
       "      <td>Marks</td>\n",
       "      <td>Non_Moles</td>\n",
       "      <td>Non_Pimples</td>\n",
       "      <td>Non_Wrinkled</td>\n",
       "    </tr>\n",
       "    <tr>\n",
       "      <th>2</th>\n",
       "      <td>S3</td>\n",
       "      <td>Vata</td>\n",
       "      <td>Male</td>\n",
       "      <td>Weaklydeveloped</td>\n",
       "      <td>Thin/Narrow</td>\n",
       "      <td>Long</td>\n",
       "      <td>LightBrown</td>\n",
       "      <td>Thin/Narrow</td>\n",
       "      <td>LightBrown</td>\n",
       "      <td>Weaklydeveloped</td>\n",
       "      <td>...</td>\n",
       "      <td>Non_Irrelevantinbetween</td>\n",
       "      <td>Non_Brittle/Cracked</td>\n",
       "      <td>Non_Loose</td>\n",
       "      <td>Non_Clear</td>\n",
       "      <td>Cracked</td>\n",
       "      <td>Non_Freckles</td>\n",
       "      <td>Non_Marks</td>\n",
       "      <td>Moles</td>\n",
       "      <td>Pimples</td>\n",
       "      <td>Wrinkled</td>\n",
       "    </tr>\n",
       "    <tr>\n",
       "      <th>3</th>\n",
       "      <td>S4</td>\n",
       "      <td>Vata</td>\n",
       "      <td>Male</td>\n",
       "      <td>Weaklydeveloped</td>\n",
       "      <td>Thin/Narrow</td>\n",
       "      <td>Long</td>\n",
       "      <td>Dusky</td>\n",
       "      <td>Thin/Narrow</td>\n",
       "      <td>DarkBrown</td>\n",
       "      <td>Weaklydeveloped</td>\n",
       "      <td>...</td>\n",
       "      <td>Irrelevantinbetween</td>\n",
       "      <td>Non_Brittle/Cracked</td>\n",
       "      <td>Non_Loose</td>\n",
       "      <td>Clear</td>\n",
       "      <td>Cracked</td>\n",
       "      <td>Non_Freckles</td>\n",
       "      <td>Non_Marks</td>\n",
       "      <td>Non_Moles</td>\n",
       "      <td>Non_Pimples</td>\n",
       "      <td>Wrinkled</td>\n",
       "    </tr>\n",
       "    <tr>\n",
       "      <th>4</th>\n",
       "      <td>S5</td>\n",
       "      <td>Kapha</td>\n",
       "      <td>Male</td>\n",
       "      <td>Welldeveloped</td>\n",
       "      <td>Broad</td>\n",
       "      <td>Long</td>\n",
       "      <td>Black</td>\n",
       "      <td>Broad</td>\n",
       "      <td>Black</td>\n",
       "      <td>Moderatelydeveloped</td>\n",
       "      <td>...</td>\n",
       "      <td>Non_Irrelevantinbetween</td>\n",
       "      <td>Non_Brittle/Cracked</td>\n",
       "      <td>Non_Loose</td>\n",
       "      <td>Non_Clear</td>\n",
       "      <td>Non_Cracked</td>\n",
       "      <td>Non_Freckles</td>\n",
       "      <td>Marks</td>\n",
       "      <td>Moles</td>\n",
       "      <td>Non_Pimples</td>\n",
       "      <td>Non_Wrinkled</td>\n",
       "    </tr>\n",
       "  </tbody>\n",
       "</table>\n",
       "<p>5 rows × 135 columns</p>\n",
       "</div>"
      ],
      "text/plain": [
       "  SampleID      C GENDER               F1           F2    F3          F4  \\\n",
       "0       S1   Vata   Male  Weaklydeveloped  Thin/Narrow  Long       Black   \n",
       "1       S2  Kapha   Male    Welldeveloped        Broad  Long   DarkBrown   \n",
       "2       S3   Vata   Male  Weaklydeveloped  Thin/Narrow  Long  LightBrown   \n",
       "3       S4   Vata   Male  Weaklydeveloped  Thin/Narrow  Long       Dusky   \n",
       "4       S5  Kapha   Male    Welldeveloped        Broad  Long       Black   \n",
       "\n",
       "            F5          F6                   F7      ...       \\\n",
       "0  Thin/Narrow   DarkBrown  Moderatelydeveloped      ...        \n",
       "1        Broad   DarkBrown  Moderatelydeveloped      ...        \n",
       "2  Thin/Narrow  LightBrown      Weaklydeveloped      ...        \n",
       "3  Thin/Narrow   DarkBrown      Weaklydeveloped      ...        \n",
       "4        Broad       Black  Moderatelydeveloped      ...        \n",
       "\n",
       "                      F123                 F124       F125       F126  \\\n",
       "0  Non_Irrelevantinbetween  Non_Brittle/Cracked  Non_Loose      Clear   \n",
       "1  Non_Irrelevantinbetween  Non_Brittle/Cracked  Non_Loose      Clear   \n",
       "2  Non_Irrelevantinbetween  Non_Brittle/Cracked  Non_Loose  Non_Clear   \n",
       "3      Irrelevantinbetween  Non_Brittle/Cracked  Non_Loose      Clear   \n",
       "4  Non_Irrelevantinbetween  Non_Brittle/Cracked  Non_Loose  Non_Clear   \n",
       "\n",
       "          F127          F128       F129       F130         F131          F132  \n",
       "0  Non_Cracked  Non_Freckles  Non_Marks  Non_Moles      Pimples  Non_Wrinkled  \n",
       "1  Non_Cracked  Non_Freckles      Marks  Non_Moles  Non_Pimples  Non_Wrinkled  \n",
       "2      Cracked  Non_Freckles  Non_Marks      Moles      Pimples      Wrinkled  \n",
       "3      Cracked  Non_Freckles  Non_Marks  Non_Moles  Non_Pimples      Wrinkled  \n",
       "4  Non_Cracked  Non_Freckles      Marks      Moles  Non_Pimples  Non_Wrinkled  \n",
       "\n",
       "[5 rows x 135 columns]"
      ]
     },
     "execution_count": 2,
     "metadata": {},
     "output_type": "execute_result"
    }
   ],
   "source": [
    "# Load data file\n",
    "bank=pd.read_csv('train_test.csv')\n",
    "bank.head()"
   ]
  },
  {
   "cell_type": "code",
   "execution_count": 5,
   "metadata": {},
   "outputs": [
    {
     "data": {
      "text/plain": [
       "0    0\n",
       "1    1\n",
       "2    0\n",
       "3    0\n",
       "4    1\n",
       "Name: C, dtype: int64"
      ]
     },
     "execution_count": 5,
     "metadata": {},
     "output_type": "execute_result"
    }
   ],
   "source": [
    "# Make a copy for parsing\n",
    "question_data = bank.copy()\n",
    "# Check if the data set contains any null values\n",
    "#question_data[question_data.isnull().any(axis=1)].count()\n",
    "question_data['C'] = question_data['C'].map( {'Vata':0, 'Kapha':1,'Pitta':2} )\n",
    "# Convert categorical variables to dummies\n",
    "question_data_original=question_data\n",
    "question_data_class=question_data['C']\n",
    "question_data.drop('C', axis=1, inplace=True)\n",
    "question_data.drop('SampleID', axis=1, inplace=True)\n",
    "\n",
    "#print(test_final.shape)\n",
    "question_with_dummies = pd.get_dummies(data=question_data)\n",
    "#question_with_dummies2 = pd.get_dummies(data=test_final)\n",
    "question_with_dummies.head()\n",
    "question_data_class.head()"
   ]
  },
  {
   "cell_type": "code",
   "execution_count": 6,
   "metadata": {},
   "outputs": [],
   "source": [
    "X_train=question_with_dummies[:131]\n",
    "y_train=question_data_class[:131]\n",
    "X_test=question_with_dummies[132:]\n",
    "y_test=question_data_class[132:]"
   ]
  },
  {
   "cell_type": "code",
   "execution_count": 7,
   "metadata": {},
   "outputs": [
    {
     "name": "stderr",
     "output_type": "stream",
     "text": [
      "C:\\ProgramData\\Anaconda3\\lib\\site-packages\\sklearn\\cross_validation.py:41: DeprecationWarning: This module was deprecated in version 0.18 in favor of the model_selection module into which all the refactored classes and functions are moved. Also note that the interface of the new CV iterators are different from that of this module. This module will be removed in 0.20.\n",
      "  \"This module will be removed in 0.20.\", DeprecationWarning)\n"
     ]
    }
   ],
   "source": [
    "from sklearn.cross_validation import train_test_split\n",
    "from sklearn import neighbors\n",
    "from sklearn.model_selection import cross_val_score"
   ]
  },
  {
   "cell_type": "code",
   "execution_count": 8,
   "metadata": {},
   "outputs": [
    {
     "name": "stdout",
     "output_type": "stream",
     "text": [
      "[1. 1. 1. 1. 1. 1. 1. 1. 1. 1. 1. 1. 1. 1. 1. 1. 1. 1. 1. 1. 1. 1. 1. 1.\n",
      " 1. 1. 1. 1. 1.]\n"
     ]
    },
    {
     "data": {
      "image/png": "[encoded data removed]",
      "text/plain": [
       "<Figure size 432x288 with 1 Axes>"
      ]
     },
     "metadata": {},
     "output_type": "display_data"
    }
   ],
   "source": [
    "k_range=list(range(1,30))\n",
    "k_scores=[]\n",
    "for k in k_range:\n",
    "    clf = neighbors.KNeighborsClassifier(k, weights='distance')\n",
    "    clf.fit(X_train, y_train)\n",
    "    #scores=cross_val_score(clf, X_test, y_test, cv=2)\n",
    "    scores=clf.score(X_test, y_test)\n",
    "    k_scores.append(scores.mean())\n",
    "    #scores=clf.score(X_test, y_test)\n",
    "  # print(scores)\n",
    "    #k_scores.append(scores)\n",
    "print(np.round(k_scores,3)) # to display scores to 3 decimal places\n",
    "from matplotlib import pyplot as plt\n",
    "plt.plot(k_range,k_scores,color=\"red\")\n",
    "plt.xlabel('k values')\n",
    "plt.ylabel('cross-validation score')\n",
    "fig1 = plt.gcf()\n",
    "plt.draw()\n",
    "plt.show()\n",
    "fig1.savefig('knn1_k.png',dpi=200)"
   ]
  },
  {
   "cell_type": "code",
   "execution_count": 9,
   "metadata": {},
   "outputs": [
    {
     "name": "stdout",
     "output_type": "stream",
     "text": [
      "             precision    recall  f1-score   support\n",
      "\n",
      "          0       1.00      1.00      1.00         7\n",
      "          1       1.00      1.00      1.00         4\n",
      "          2       1.00      1.00      1.00         4\n",
      "\n",
      "avg / total       1.00      1.00      1.00        15\n",
      "\n"
     ]
    }
   ],
   "source": [
    "from sklearn import neighbors\n",
    "n_neighbors=18\n",
    "clf = neighbors.KNeighborsClassifier(n_neighbors, weights='distance')\n",
    "clf.fit(X_train, y_train)\n",
    "\n",
    "#predict\n",
    "y_pred = clf.predict(X_test)  \n",
    "## See how the model performs on the test data.\n",
    "clf.score(X_test, y_test)\n",
    "from sklearn.metrics import classification_report, confusion_matrix  \n",
    "print(classification_report(y_test, y_pred))"
   ]
  },
  {
   "cell_type": "code",
   "execution_count": 10,
   "metadata": {},
   "outputs": [
    {
     "data": {
      "image/png": "[encoded data removed]",
      "text/plain": [
       "<Figure size 360x288 with 2 Axes>"
      ]
     },
     "metadata": {},
     "output_type": "display_data"
    },
    {
     "data": {
      "text/plain": [
       "<Figure size 432x288 with 0 Axes>"
      ]
     },
     "metadata": {},
     "output_type": "display_data"
    }
   ],
   "source": [
    "import seaborn as sn\n",
    "import pandas as pd\n",
    "import matplotlib.pyplot as plt\n",
    "array = confusion_matrix(y_test, y_pred)\n",
    "df_cm = pd.DataFrame(array, index = [i for i in \"VKP\"],\n",
    "                  columns = [i for i in \"VKP\"])\n",
    "g=plt.figure(figsize = (5,4))\n",
    "sn.heatmap(df_cm, annot=True)\n",
    "plt.show()\n",
    "fig1 = plt.gcf()\n",
    "plt.draw()\n",
    "plt.show()\n",
    "fig1.savefig('knn2_k.png',dpi=200)"
   ]
  },
  {
   "cell_type": "code",
   "execution_count": null,
   "metadata": {
    "collapsed": true
   },
   "outputs": [],
   "source": []
  }
 ],
 "metadata": {
  "kernelspec": {
   "display_name": "Python 3",
   "language": "python",
   "name": "python3"
  },
  "language_info": {
   "codemirror_mode": {
    "name": "ipython",
    "version": 3
   },
   "file_extension": ".py",
   "mimetype": "text/x-python",
   "name": "python",
   "nbconvert_exporter": "python",
   "pygments_lexer": "ipython3",
   "version": "3.6.5"
  }
 },
 "nbformat": 4,
 "nbformat_minor": 2
}
