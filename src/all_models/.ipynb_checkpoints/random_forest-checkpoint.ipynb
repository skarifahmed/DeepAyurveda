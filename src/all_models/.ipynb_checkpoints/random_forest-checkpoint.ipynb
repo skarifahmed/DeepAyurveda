{
 "cells": [
  {
   "cell_type": "code",
   "execution_count": 1,
   "metadata": {
    "collapsed": true
   },
   "outputs": [],
   "source": [
    "import pandas as pd\n",
    "import numpy as np\n",
    "import matplotlib.pyplot as plt\n",
    "import seaborn as sns\n",
    "from sklearn.cluster import KMeans\n",
    "from sklearn import datasets\n",
    "from io import StringIO\n",
    "from sklearn.tree import export_graphviz\n",
    "from sklearn.model_selection import train_test_split\n",
    "from sklearn import tree\n",
    "from sklearn import metrics"
   ]
  },
  {
   "cell_type": "code",
   "execution_count": 2,
   "metadata": {},
   "outputs": [
    {
     "name": "stderr",
     "output_type": "stream",
     "text": [
      "C:\\ProgramData\\Anaconda3\\lib\\site-packages\\sklearn\\cross_validation.py:41: DeprecationWarning: This module was deprecated in version 0.18 in favor of the model_selection module into which all the refactored classes and functions are moved. Also note that the interface of the new CV iterators are different from that of this module. This module will be removed in 0.20.\n",
      "  \"This module will be removed in 0.20.\", DeprecationWarning)\n"
     ]
    }
   ],
   "source": [
    "# Load data file\n",
    "bank=pd.read_csv('data1.csv')\n",
    "# Make a copy for parsing\n",
    "question_data = bank.copy()\n",
    "question_data['C'] = question_data['C'].map( {'Vata':0, 'Kapha':1,'Pitta':2} )\n",
    "# Convert categorical variables to dummies\n",
    "question_data_original=question_data\n",
    "question_data_class=question_data['C']\n",
    "question_data.drop('C', axis=1, inplace=True)\n",
    "question_with_dummies = pd.get_dummies(data=question_data)\n",
    "\n",
    "from sklearn.cross_validation import train_test_split\n",
    "X=question_with_dummies\n",
    "y=question_data_class\n",
    "X_train, X_test, y_train, y_test = train_test_split(X, y, test_size=0.30, random_state=10)"
   ]
  },
  {
   "cell_type": "code",
   "execution_count": null,
   "metadata": {},
   "outputs": [],
   "source": [
    "from sklearn.ensemble import RandomForestClassifier\n",
    "from sklearn.model_selection import cross_val_score\n",
    "\n",
    "n_range=list(range(1,20))\n",
    "n_scores=[]\n",
    "for n in n_range:\n",
    "    rfc3 = RandomForestClassifier(n_estimators =n)#criterion = entopy,gini\n",
    "    rfc3.fit(X_train,y_train)\n",
    "    scores=cross_val_score(estimator=rfc3, X=X_test, y=y_test, cv=5)\n",
    "    n_scores.append(scores.mean())\n",
    "print(np.round(n_scores,3)) # to display scores to 3 decimal places\n",
    "from matplotlib import pyplot as plt\n",
    "plt.plot(n_range,n_scores,color=\"red\")\n",
    "plt.xlabel('n_estimator values')\n",
    "plt.ylabel('cross-validation score')\n",
    "fig1 = plt.gcf()\n",
    "plt.draw()\n",
    "plt.show()\n",
    "fig1.savefig('rf_n.png',dpi=200)"
   ]
  },
  {
   "cell_type": "code",
   "execution_count": 4,
   "metadata": {},
   "outputs": [
    {
     "name": "stdout",
     "output_type": "stream",
     "text": [
      "             precision    recall  f1-score   support\n",
      "\n",
      "          0       0.88      1.00      0.94        22\n",
      "          1       0.93      0.93      0.93        14\n",
      "          2       0.83      0.56      0.67         9\n",
      "\n",
      "avg / total       0.89      0.89      0.88        45\n",
      "\n"
     ]
    }
   ],
   "source": [
    "n=4\n",
    "clf =  RandomForestClassifier(n_estimators =n)#criterion = entopy,gini\n",
    "clf.fit(X_train, y_train)\n",
    "\n",
    "#predict\n",
    "y_pred = clf.predict(X_test)  \n",
    "## See how the model performs on the test data.\n",
    "clf.score(X_test, y_test)\n",
    "from sklearn.metrics import classification_report, confusion_matrix  \n",
    "print(classification_report(y_test, y_pred))"
   ]
  },
  {
   "cell_type": "code",
   "execution_count": 6,
   "metadata": {},
   "outputs": [
    {
     "data": {
      "image/png": "[encoded data removed]",
      "text/plain": [
       "<matplotlib.figure.Figure at 0xbc087b8>"
      ]
     },
     "metadata": {},
     "output_type": "display_data"
    }
   ],
   "source": [
    "import seaborn as sn\n",
    "import pandas as pd\n",
    "import matplotlib.pyplot as plt\n",
    "array = confusion_matrix(y_test, y_pred)\n",
    "df_cm = pd.DataFrame(array, index = [i for i in \"VKP\"],\n",
    "                  columns = [i for i in \"VKP\"])\n",
    "plt.figure(figsize = (5,4))\n",
    "sn.heatmap(df_cm, annot=True)\n",
    "fig1 = plt.gcf()\n",
    "plt.draw()\n",
    "plt.show()\n",
    "fig1.savefig('dt_con.png',dpi=200)"
   ]
  },
  {
   "cell_type": "code",
   "execution_count": null,
   "metadata": {
    "collapsed": true
   },
   "outputs": [],
   "source": []
  }
 ],
 "metadata": {
  "kernelspec": {
   "display_name": "Python 3",
   "language": "python",
   "name": "python3"
  },
  "language_info": {
   "codemirror_mode": {
    "name": "ipython",
    "version": 3
   },
   "file_extension": ".py",
   "mimetype": "text/x-python",
   "name": "python",
   "nbconvert_exporter": "python",
   "pygments_lexer": "ipython3",
   "version": "3.6.5"
  }
 },
 "nbformat": 4,
 "nbformat_minor": 2
}
