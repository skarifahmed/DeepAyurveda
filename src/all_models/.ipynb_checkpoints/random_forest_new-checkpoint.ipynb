{
 "cells": [
  {
   "cell_type": "code",
   "execution_count": 1,
   "metadata": {},
   "outputs": [],
   "source": [
    "import pandas as pd\n",
    "import numpy as np\n",
    "import matplotlib.pyplot as plt\n",
    "import seaborn as sns\n",
    "from sklearn.cluster import KMeans\n",
    "from sklearn import datasets\n",
    "from io import StringIO\n",
    "from sklearn.tree import export_graphviz\n",
    "from sklearn.model_selection import train_test_split\n",
    "from sklearn import tree\n",
    "from sklearn import metrics"
   ]
  },
  {
   "cell_type": "code",
   "execution_count": null,
   "metadata": {},
   "outputs": [],
   "source": [
    "# Load data file\n",
    "bank=pd.read_csv('train_test.csv')\n",
    "# Make a copy for parsing\n",
    "question_data = bank.copy()\n",
    "question_data['C'] = question_data['C'].map( {'Vata':0, 'Kapha':1,'Pitta':2} )\n",
    "# Convert categorical variables to dummies\n",
    "question_data_original=question_data\n",
    "question_data_class=question_data['C']\n",
    "question_data.drop('C', axis=1, inplace=True)\n",
    "question_data.drop('SampleID', axis=1, inplace=True)\n",
    "question_with_dummies = pd.get_dummies(data=question_data)\n",
    "\n",
    "from sklearn.cross_validation import train_test_split\n",
    "X_train=question_with_dummies[:131]\n",
    "y_train=question_data_class[:131]\n",
    "X_test=question_with_dummies[132:]\n",
    "y_test=question_data_class[132:]"
   ]
  }
 ],
 "metadata": {
  "kernelspec": {
   "display_name": "Python 3",
   "language": "python",
   "name": "python3"
  },
  "language_info": {
   "codemirror_mode": {
    "name": "ipython",
    "version": 3
   },
   "file_extension": ".py",
   "mimetype": "text/x-python",
   "name": "python",
   "nbconvert_exporter": "python",
   "pygments_lexer": "ipython3",
   "version": "3.6.5"
  }
 },
 "nbformat": 4,
 "nbformat_minor": 2
}
