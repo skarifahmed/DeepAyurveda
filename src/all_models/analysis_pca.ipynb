{
 "cells": [
  {
   "cell_type": "code",
   "execution_count": 1,
   "metadata": {
    "collapsed": true
   },
   "outputs": [],
   "source": [
    "import pandas as pd\n",
    "import numpy as np\n",
    "import matplotlib.pyplot as plt\n",
    "import seaborn as sns\n",
    "from sklearn.cluster import KMeans\n",
    "from sklearn import datasets\n",
    "from io import StringIO\n",
    "from sklearn.tree import export_graphviz\n",
    "from sklearn.model_selection import train_test_split\n",
    "from sklearn import tree\n",
    "from sklearn import metrics"
   ]
  },
  {
   "cell_type": "code",
   "execution_count": 2,
   "metadata": {},
   "outputs": [
    {
     "name": "stderr",
     "output_type": "stream",
     "text": [
      "C:\\ProgramData\\Anaconda3\\lib\\site-packages\\sklearn\\cross_validation.py:41: DeprecationWarning: This module was deprecated in version 0.18 in favor of the model_selection module into which all the refactored classes and functions are moved. Also note that the interface of the new CV iterators are different from that of this module. This module will be removed in 0.20.\n",
      "  \"This module will be removed in 0.20.\", DeprecationWarning)\n"
     ]
    }
   ],
   "source": [
    "# Load data file\n",
    "bank=pd.read_csv('data1.csv')\n",
    "# Make a copy for parsing\n",
    "question_data = bank.copy()\n",
    "question_data['C'] = question_data['C'].map( {'Vata':0, 'Kapha':1,'Pitta':2} )\n",
    "# Convert categorical variables to dummies\n",
    "question_data_original=question_data\n",
    "question_data_class=question_data['C']\n",
    "question_data.drop('C', axis=1, inplace=True)\n",
    "question_with_dummies = pd.get_dummies(data=question_data)\n",
    "\n",
    "from sklearn.cross_validation import train_test_split\n",
    "X=question_with_dummies\n",
    "y=question_data_class\n",
    "X_train, X_test, y_train, y_test = train_test_split(X, y, test_size=0.30, random_state=10)"
   ]
  },
  {
   "cell_type": "code",
   "execution_count": 8,
   "metadata": {},
   "outputs": [
    {
     "name": "stdout",
     "output_type": "stream",
     "text": [
      "(147, 2)\n",
      "(147, 1)\n"
     ]
    }
   ],
   "source": [
    "# standardizing and PCA\n",
    "from sklearn.preprocessing import StandardScaler\n",
    "from sklearn.decomposition import PCA\n",
    "\n",
    "scaler = StandardScaler()\n",
    "P_scaled=scaler.fit_transform(question_with_dummies)\n",
    "P_scaled=pd.DataFrame(P_scaled)\n",
    "pca=PCA(n_components=0.95)\n",
    "P_pca=pca.fit_transform(P_scaled)\n",
    "P_pca=P_pca[:,0:2]\n",
    "print(P_pca.shape)\n",
    "arr1=y.ravel()\n",
    "arr1=arr1.reshape(147,1)\n",
    "print(arr1.shape)"
   ]
  },
  {
   "cell_type": "code",
   "execution_count": 14,
   "metadata": {
    "scrolled": false
   },
   "outputs": [
    {
     "data": {
      "text/plain": [
       "<matplotlib.figure.Figure at 0xa6c1c50>"
      ]
     },
     "metadata": {},
     "output_type": "display_data"
    },
    {
     "data": {
      "image/png": "[encoded data removed]",
      "text/plain": [
       "<matplotlib.figure.Figure at 0xa7bf048>"
      ]
     },
     "metadata": {},
     "output_type": "display_data"
    }
   ],
   "source": [
    "n=['PC1','PC2','diagnosis']\n",
    "d=arr1  # diagnosis column\n",
    "#merging the reduced data with diagnosis column\n",
    "Xy=pd.DataFrame(np.hstack([P_pca,d]),columns=n)\n",
    "# plotting the the first 2 pca components against diagnosis\n",
    "#type(d)\n",
    "g=sns.lmplot(\"PC1\", \"PC2\", hue=\"diagnosis\", data=Xy, fit_reg=False,markers=[\"o\", \"o\",\"o\"],palette=\"Set1\")\n",
    "# replace labels\n",
    "new_labels = ['Vata','Kapha','Pitta']\n",
    "for t, l in zip(g._legend.texts, new_labels): t.set_text(l)\n",
    "plt.show()\n",
    "g.savefig('pca.png',dpi=200)"
   ]
  },
  {
   "cell_type": "code",
   "execution_count": null,
   "metadata": {
    "collapsed": true
   },
   "outputs": [],
   "source": []
  },
  {
   "cell_type": "code",
   "execution_count": null,
   "metadata": {
    "collapsed": true
   },
   "outputs": [],
   "source": []
  }
 ],
 "metadata": {
  "kernelspec": {
   "display_name": "Python 3",
   "language": "python",
   "name": "python3"
  },
  "language_info": {
   "codemirror_mode": {
    "name": "ipython",
    "version": 3
   },
   "file_extension": ".py",
   "mimetype": "text/x-python",
   "name": "python",
   "nbconvert_exporter": "python",
   "pygments_lexer": "ipython3",
   "version": "3.6.5"
  }
 },
 "nbformat": 4,
 "nbformat_minor": 2
}
